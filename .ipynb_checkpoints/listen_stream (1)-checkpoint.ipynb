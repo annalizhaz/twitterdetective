{
 "cells": [
  {
   "cell_type": "code",
   "execution_count": 1,
   "metadata": {
    "collapsed": true
   },
   "outputs": [],
   "source": [
    "import sys\n",
    "import twitter\n",
    "import json\n",
    "import datetime\n",
    "from datetime import *\n",
    "from sklearn.ensemble import RandomForestClassifier\n",
    "from sklearn.linear_model import LogisticRegression\n",
    "from sklearn.naive_bayes import GaussianNB\n",
    "from sklearn.neighbors import KNeighborsClassifier\n",
    "from sklearn import svm, ensemble\n",
    "from sklearn.metrics import *\n",
    "from sklearn.cross_validation import train_test_split, KFold\n",
    "from autorizador import *\n"
   ]
  },
  {
   "cell_type": "code",
   "execution_count": 4,
   "metadata": {
    "collapsed": false
   },
   "outputs": [
    {
     "ename": "FileNotFoundError",
     "evalue": "[Errno 2] No such file or directory: 'secrets.txt'",
     "output_type": "error",
     "traceback": [
      "\u001b[0;31m---------------------------------------------------------------------------\u001b[0m",
      "\u001b[0;31mFileNotFoundError\u001b[0m                         Traceback (most recent call last)",
      "\u001b[0;32m<ipython-input-4-0128af6b6053>\u001b[0m in \u001b[0;36m<module>\u001b[0;34m()\u001b[0m\n\u001b[0;32m----> 1\u001b[0;31m \u001b[0mauth\u001b[0m \u001b[0;34m=\u001b[0m \u001b[0mget_credents\u001b[0m\u001b[0;34m(\u001b[0m\u001b[0;34m)\u001b[0m\u001b[0;34m\u001b[0m\u001b[0m\n\u001b[0m",
      "\u001b[0;32m<ipython-input-3-e46edc8dcbc1>\u001b[0m in \u001b[0;36mget_credents\u001b[0;34m()\u001b[0m\n\u001b[1;32m      1\u001b[0m \u001b[0;32mdef\u001b[0m \u001b[0mget_credents\u001b[0m\u001b[0;34m(\u001b[0m\u001b[0;34m)\u001b[0m\u001b[0;34m:\u001b[0m\u001b[0;34m\u001b[0m\u001b[0m\n\u001b[0;32m----> 2\u001b[0;31m         \u001b[0mcreds\u001b[0m \u001b[0;34m=\u001b[0m \u001b[0mget_creds\u001b[0m\u001b[0;34m(\u001b[0m\u001b[0;34m'secrets.txt'\u001b[0m\u001b[0;34m)\u001b[0m\u001b[0;34m\u001b[0m\u001b[0m\n\u001b[0m\u001b[1;32m      3\u001b[0m         \u001b[0mauth\u001b[0m\u001b[0;34m=\u001b[0m\u001b[0mtwitter\u001b[0m\u001b[0;34m.\u001b[0m\u001b[0mOAuth\u001b[0m\u001b[0;34m(\u001b[0m\u001b[0mcreds\u001b[0m\u001b[0;34m.\u001b[0m\u001b[0mAccessToken\u001b[0m\u001b[0;34m,\u001b[0m\u001b[0mcreds\u001b[0m\u001b[0;34m.\u001b[0m\u001b[0mAccessTokenSecret\u001b[0m\u001b[0;34m,\u001b[0m\u001b[0mcreds\u001b[0m\u001b[0;34m.\u001b[0m\u001b[0mConsumerKey\u001b[0m\u001b[0;34m,\u001b[0m \u001b[0mcreds\u001b[0m\u001b[0;34m.\u001b[0m\u001b[0mConsumerKeySecret\u001b[0m\u001b[0;34m)\u001b[0m\u001b[0;34m\u001b[0m\u001b[0m\n\u001b[1;32m      4\u001b[0m         \u001b[0;32mreturn\u001b[0m \u001b[0mauth\u001b[0m\u001b[0;34m\u001b[0m\u001b[0m\n\u001b[1;32m      5\u001b[0m \u001b[0;34m\u001b[0m\u001b[0m\n",
      "\u001b[0;32m/Users/annahazard/Dropbox/University of Chicago/2015-16 Q3 Spring/Machine Learning/Project/twitterdetective/autorizador.py\u001b[0m in \u001b[0;36mget_creds\u001b[0;34m(filename)\u001b[0m\n\u001b[1;32m     25\u001b[0m \u001b[0;32mdef\u001b[0m \u001b[0mget_creds\u001b[0m\u001b[0;34m(\u001b[0m\u001b[0mfilename\u001b[0m\u001b[0;34m)\u001b[0m\u001b[0;34m:\u001b[0m\u001b[0;34m\u001b[0m\u001b[0m\n\u001b[1;32m     26\u001b[0m     \u001b[0;31m# open the input file for reading\u001b[0m\u001b[0;34m\u001b[0m\u001b[0;34m\u001b[0m\u001b[0m\n\u001b[0;32m---> 27\u001b[0;31m     \u001b[0minfile\u001b[0m \u001b[0;34m=\u001b[0m \u001b[0mopen\u001b[0m\u001b[0;34m(\u001b[0m\u001b[0mfilename\u001b[0m\u001b[0;34m,\u001b[0m \u001b[0;34m'r'\u001b[0m\u001b[0;34m)\u001b[0m\u001b[0;34m\u001b[0m\u001b[0m\n\u001b[0m\u001b[1;32m     28\u001b[0m     \u001b[0mc\u001b[0m \u001b[0;34m=\u001b[0m \u001b[0mmakeAuth\u001b[0m\u001b[0;34m(\u001b[0m\u001b[0minfile\u001b[0m\u001b[0;34m.\u001b[0m\u001b[0mreadline\u001b[0m\u001b[0;34m(\u001b[0m\u001b[0;34m)\u001b[0m\u001b[0;34m)\u001b[0m\u001b[0;34m\u001b[0m\u001b[0m\n\u001b[1;32m     29\u001b[0m     \u001b[0;32mfor\u001b[0m \u001b[0mline\u001b[0m \u001b[0;32min\u001b[0m \u001b[0minfile\u001b[0m\u001b[0;34m:\u001b[0m\u001b[0;34m\u001b[0m\u001b[0m\n",
      "\u001b[0;31mFileNotFoundError\u001b[0m: [Errno 2] No such file or directory: 'secrets.txt'"
     ]
    }
   ],
   "source": [
    "auth = get_credents()"
   ]
  },
  {
   "cell_type": "code",
   "execution_count": 3,
   "metadata": {
    "collapsed": true
   },
   "outputs": [],
   "source": [
    "def get_credents():\n",
    "\tcreds = get_creds('secrets.txt')\n",
    "\tauth=twitter.OAuth(creds.AccessToken,creds.AccessTokenSecret,creds.ConsumerKey, creds.ConsumerKeySecret)\n",
    "\treturn auth\n",
    "\n",
    "def save_tweet(tweet, f):\n",
    "    # Replace HTML entities; function extracted from Borja Sotomayor Twitter Harvester \n",
    "    tweet['text'] = tweet['text'].replace(\"&gt;\", \">\").replace(\"&lt;\", \"<\").replace(\"&amp;\", \"&\")\n",
    "    json.dump(tweet, f)\n",
    "    f.write('\\n')\n",
    "\n",
    "def save_user_tweets(user, n, auth):\n",
    "    t = twitter.Twitter(auth=auth)\n",
    "    print(\"Fetching %i tweets from @%s\" % (n, user))\n",
    "    tweets = t.statuses.user_timeline(screen_name=user, count=n)\n",
    "    print(\"  (actually fetched %i)\" % len(tweets))\n",
    "    for tweet in tweets:\n",
    "        save_tweet(tweet, outfile)\n",
    "        print(tweet['text'])\n",
    "\n",
    "# read the filters file to track\n",
    "# infile = open('filters_file.txt', 'r')\n",
    "# track = \",\".join(infile.read().strip().split(\"\\n\"))\n",
    "\n",
    "def get_tweets(num_tweets, auth, filters_file, filter_words, filename_):\n",
    "    '''\n",
    "    Person Responsible: Manu Aragones\n",
    "\n",
    "    + filter_file: list of words / phrases to be included in query IN FILE\n",
    "    + filter_words: if filter_file not specified -> you can input filter manually\n",
    "                    format: comma-separated list of phrases which will be used to\n",
    "                            determine what Tweets will be delivered on the stream\n",
    "    + num_tweets: the maximum number of tweets before break\n",
    "    builds query for twitter API from user input\n",
    "\n",
    "    Simplified fuction from Borja Sotomayor Twitter Harvester\n",
    "\n",
    "    '''\n",
    "    outf = open(filename_, \"w\")\n",
    "    # Connect to the stream\n",
    "    twitter_stream = twitter.TwitterStream(auth=auth)\n",
    "    if filter_words is None and filters_file is None:\n",
    "        stream = twitter_stream.statuses.sample()\n",
    "    else:\n",
    "        if filter_words is not None:\n",
    "            track = \",\".join(filter_words)\n",
    "        elif filters_file is not None:\n",
    "            infile = open(filters_file, 'r')\n",
    "            track = \",\".join(infile.read().strip().split(\"\\n\"))\n",
    "        stream = twitter_stream.statuses.filter(track=track)\n",
    "    # Fetch the tweets\n",
    "    fetched = 0\n",
    "\n",
    "    if num_tweets > 0:\n",
    "        if outf != sys.stdout: print(\"Fetching %i tweets... \" % num_tweets)\n",
    "    else:\n",
    "        signal.signal(signal.SIGINT, signal_handler)\n",
    "        now = datetime.now().isoformat(sep=\" \")\n",
    "        msg = \"[{}] Fetching tweets. Press Ctrl+C to stop.\".format(now)\n",
    "        if outf != sys.stdout: print(msg)\n",
    "\n",
    "    for tweet in stream:\n",
    "        # The public stream includes tweets, but also other messages, such\n",
    "        # as deletion notices. We are only interested in the tweets.\n",
    "        # See: https://dev.twitter.com/streaming/overview/messages-types\n",
    "        if tweet.get('text'):\n",
    "            # We also only want English tweets\n",
    "            if tweet['lang'] == \"en\" or tweet['lang'] == \"es\":\n",
    "                save_tweet(tweet, outf)\n",
    "                fetched += 1\n",
    "                if fetched % num_tweets == 0:\n",
    "                    now = datetime.now().isoformat(sep=\" \")\n",
    "                    msg = \"[{}] Fetched {:,} tweets.\".format(now, fetched)\n",
    "                    if outf != sys.stdout: \n",
    "                        print(msg)\n",
    "                        stream.close()\n",
    "                if num_tweets > 0 and fetched >= num_tweets:\n",
    "                    stream.close()\n",
    "                    break"
   ]
  },
  {
   "cell_type": "code",
   "execution_count": null,
   "metadata": {
    "collapsed": false
   },
   "outputs": [],
   "source": [
    "get_tweets(20, auth, None, ['Trump','Hillary'], 'Trumpd2.txt')"
   ]
  },
  {
   "cell_type": "code",
   "execution_count": null,
   "metadata": {
    "collapsed": true
   },
   "outputs": [],
   "source": []
  },
  {
   "cell_type": "code",
   "execution_count": null,
   "metadata": {
    "collapsed": true
   },
   "outputs": [],
   "source": []
  }
 ],
 "metadata": {
  "kernelspec": {
   "display_name": "Python 3",
   "language": "python",
   "name": "python3"
  },
  "language_info": {
   "codemirror_mode": {
    "name": "ipython",
    "version": 3
   },
   "file_extension": ".py",
   "mimetype": "text/x-python",
   "name": "python",
   "nbconvert_exporter": "python",
   "pygments_lexer": "ipython3",
   "version": "3.5.1"
  }
 },
 "nbformat": 4,
 "nbformat_minor": 0
}
